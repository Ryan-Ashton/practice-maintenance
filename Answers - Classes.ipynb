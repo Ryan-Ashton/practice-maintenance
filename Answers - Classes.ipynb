{
 "cells": [
  {
   "cell_type": "code",
   "execution_count": 1,
   "id": "1b4d453f",
   "metadata": {},
   "outputs": [],
   "source": [
    "# Create a basic class with pass\n",
    "\n",
    "class Hello:\n",
    "    pass"
   ]
  },
  {
   "cell_type": "code",
   "execution_count": 2,
   "id": "24694ef3",
   "metadata": {},
   "outputs": [
    {
     "data": {
      "text/plain": [
       "5"
      ]
     },
     "execution_count": 2,
     "metadata": {},
     "output_type": "execute_result"
    }
   ],
   "source": [
    "# Create a basic class with a single variable\n",
    "\n",
    "class First:\n",
    "    x = 5\n",
    "    \n",
    "q = First()\n",
    "q.x"
   ]
  },
  {
   "cell_type": "code",
   "execution_count": 3,
   "id": "621f610d",
   "metadata": {},
   "outputs": [
    {
     "data": {
      "text/plain": [
       "35"
      ]
     },
     "execution_count": 3,
     "metadata": {},
     "output_type": "execute_result"
    }
   ],
   "source": [
    "# Create a class with __init__ and self\n",
    "\n",
    "class Person:\n",
    "    def __init__(self, name, age):\n",
    "        self.name = name\n",
    "        self.age = age\n",
    "        \n",
    "\n",
    "R = Person(\"Ryan\", 35)\n",
    "\n",
    "R.name\n",
    "R.age"
   ]
  },
  {
   "cell_type": "code",
   "execution_count": 4,
   "id": "e5f4c241",
   "metadata": {},
   "outputs": [
    {
     "data": {
      "text/plain": [
       "'Paul'"
      ]
     },
     "execution_count": 4,
     "metadata": {},
     "output_type": "execute_result"
    }
   ],
   "source": [
    "# Modify Object Properties\n",
    "\n",
    "R.name = \"Paul\"\n",
    "\n",
    "R.name"
   ]
  },
  {
   "cell_type": "code",
   "execution_count": 5,
   "id": "070be142",
   "metadata": {},
   "outputs": [
    {
     "name": "stdout",
     "output_type": "stream",
     "text": [
      "35\n"
     ]
    },
    {
     "ename": "AttributeError",
     "evalue": "'Person' object has no attribute 'name'",
     "output_type": "error",
     "traceback": [
      "\u001b[1;31m---------------------------------------------------------------------------\u001b[0m",
      "\u001b[1;31mAttributeError\u001b[0m                            Traceback (most recent call last)",
      "\u001b[1;32m<ipython-input-5-8691418790f7>\u001b[0m in \u001b[0;36m<module>\u001b[1;34m\u001b[0m\n\u001b[0;32m      4\u001b[0m \u001b[1;33m\u001b[0m\u001b[0m\n\u001b[0;32m      5\u001b[0m \u001b[0mprint\u001b[0m\u001b[1;33m(\u001b[0m\u001b[0mR\u001b[0m\u001b[1;33m.\u001b[0m\u001b[0mage\u001b[0m\u001b[1;33m)\u001b[0m\u001b[1;33m\u001b[0m\u001b[1;33m\u001b[0m\u001b[0m\n\u001b[1;32m----> 6\u001b[1;33m \u001b[0mprint\u001b[0m\u001b[1;33m(\u001b[0m\u001b[0mR\u001b[0m\u001b[1;33m.\u001b[0m\u001b[0mname\u001b[0m\u001b[1;33m)\u001b[0m\u001b[1;33m\u001b[0m\u001b[1;33m\u001b[0m\u001b[0m\n\u001b[0m",
      "\u001b[1;31mAttributeError\u001b[0m: 'Person' object has no attribute 'name'"
     ]
    }
   ],
   "source": [
    "# Delete Object Properties\n",
    "\n",
    "del R.name\n",
    "\n",
    "print(R.age)\n",
    "print(R.name)"
   ]
  },
  {
   "cell_type": "code",
   "execution_count": 6,
   "id": "5b83925c",
   "metadata": {},
   "outputs": [
    {
     "ename": "NameError",
     "evalue": "name 'R' is not defined",
     "output_type": "error",
     "traceback": [
      "\u001b[1;31m---------------------------------------------------------------------------\u001b[0m",
      "\u001b[1;31mNameError\u001b[0m                                 Traceback (most recent call last)",
      "\u001b[1;32m<ipython-input-6-7f265364de01>\u001b[0m in \u001b[0;36m<module>\u001b[1;34m\u001b[0m\n\u001b[0;32m      3\u001b[0m \u001b[1;32mdel\u001b[0m \u001b[0mR\u001b[0m\u001b[1;33m\u001b[0m\u001b[1;33m\u001b[0m\u001b[0m\n\u001b[0;32m      4\u001b[0m \u001b[1;33m\u001b[0m\u001b[0m\n\u001b[1;32m----> 5\u001b[1;33m \u001b[0mR\u001b[0m\u001b[1;33m.\u001b[0m\u001b[0mage\u001b[0m\u001b[1;33m\u001b[0m\u001b[1;33m\u001b[0m\u001b[0m\n\u001b[0m",
      "\u001b[1;31mNameError\u001b[0m: name 'R' is not defined"
     ]
    }
   ],
   "source": [
    "# Delete Objects\n",
    "\n",
    "del R\n",
    "\n",
    "R.age"
   ]
  },
  {
   "cell_type": "code",
   "execution_count": 7,
   "id": "e9cb5abe",
   "metadata": {},
   "outputs": [
    {
     "data": {
      "text/plain": [
       "20"
      ]
     },
     "execution_count": 7,
     "metadata": {},
     "output_type": "execute_result"
    }
   ],
   "source": [
    "# Create a class with a static method - \n",
    "# methods that can't access or modify an object state because it's not bound to the object\n",
    "# Helps to define utility methods that have a logical relationship in a class\n",
    "# Doesn't take \"self\"\n",
    "\n",
    "class Maths:\n",
    "    \n",
    "    def __init__(self, number):\n",
    "        self.number = number\n",
    "    \n",
    "    \n",
    "    @staticmethod\n",
    "    def plus_stuff(c):\n",
    "        return  c + 10\n",
    "    \n",
    "    \n",
    "M = Maths(5)\n",
    "M.plus_stuff(10)\n",
    "    \n"
   ]
  },
  {
   "cell_type": "code",
   "execution_count": 8,
   "id": "52e05e05",
   "metadata": {},
   "outputs": [
    {
     "name": "stdout",
     "output_type": "stream",
     "text": [
      "Bob\n",
      "John\n"
     ]
    }
   ],
   "source": [
    "# Create a class with a class method\n",
    "# A class method isn't bound to any specific instance - only to a class\n",
    "# Class method can't access instance attributes, but it can access class attributes via the cls variable\n",
    "\n",
    "\n",
    "class Person:\n",
    "    def __init__(self, fname, lname, age):\n",
    "        self.fname = fname\n",
    "        self.lname = lname\n",
    "        self.age = age\n",
    "        \n",
    "    @classmethod\n",
    "    def new(cls): #add cls\n",
    "        return Person('John', 'Doe', 25)\n",
    "    \n",
    "M = Person('Bob', 'smith', 56)\n",
    "\n",
    "print(M.fname)\n",
    "\n",
    "N = Person.new()\n",
    "\n",
    "print(N.fname)"
   ]
  },
  {
   "cell_type": "code",
   "execution_count": 9,
   "id": "3b2cebd3",
   "metadata": {},
   "outputs": [
    {
     "name": "stdout",
     "output_type": "stream",
     "text": [
      "Object: Bob Smith\n"
     ]
    }
   ],
   "source": [
    "# Create a class with a Dunder method\n",
    "\n",
    "class Person:\n",
    "    def __init__(self, fname, lname, age):\n",
    "        self.fname = fname\n",
    "        self.lname = lname\n",
    "        self.age = age\n",
    "        \n",
    "    @classmethod\n",
    "    def new(cls): #add cls\n",
    "        return Person('John', 'Doe', 25)\n",
    "    \n",
    "    def __repr__(self):\n",
    "        return 'Object: {} {}'.format(self.fname, self.lname)\n",
    "    \n",
    "M = Person('Bob', 'Smith', 56)\n",
    "\n",
    "print(M)"
   ]
  },
  {
   "cell_type": "code",
   "execution_count": 10,
   "id": "5c7ce916",
   "metadata": {},
   "outputs": [
    {
     "data": {
      "text/plain": [
       "'Bob'"
      ]
     },
     "execution_count": 10,
     "metadata": {},
     "output_type": "execute_result"
    }
   ],
   "source": [
    "# Create a class inheriting from another class with super()\n",
    "\n",
    "class Person:\n",
    "    def __init__(self, fname, lname, age):\n",
    "        self.fname = fname\n",
    "        self.lname = lname\n",
    "        self.age = age\n",
    "        \n",
    "        \n",
    "class Worker(Person):\n",
    "    def __init__(self, fname, lname, age):\n",
    "        super().__init__(fname, lname, age)\n",
    "        \n",
    "\n",
    "q = Worker(\"Bob\", \"Smith\", 56)\n",
    "q.fname"
   ]
  },
  {
   "cell_type": "code",
   "execution_count": 11,
   "id": "55a28471",
   "metadata": {},
   "outputs": [
    {
     "name": "stdout",
     "output_type": "stream",
     "text": [
      "<__main__.Power object at 0x0000021354343F70>\n",
      "16\n"
     ]
    }
   ],
   "source": [
    "# Create a class with a decorator\n",
    "\n",
    "class Power(object):\n",
    "    def __init__(self, arg):\n",
    "        self._arg = arg\n",
    "\n",
    "    def __call__(self, a, b):\n",
    "        retval = self._arg(a, b)\n",
    "        return retval ** 2\n",
    "\n",
    "\n",
    "@Power\n",
    "def multiply_together(a, b):\n",
    "    return a * b\n",
    "\n",
    "\n",
    "print(multiply_together)\n",
    "print(multiply_together(2, 2))"
   ]
  },
  {
   "cell_type": "code",
   "execution_count": null,
   "id": "5b246038",
   "metadata": {},
   "outputs": [],
   "source": []
  }
 ],
 "metadata": {
  "kernelspec": {
   "display_name": "Python 3",
   "language": "python",
   "name": "python3"
  },
  "language_info": {
   "codemirror_mode": {
    "name": "ipython",
    "version": 3
   },
   "file_extension": ".py",
   "mimetype": "text/x-python",
   "name": "python",
   "nbconvert_exporter": "python",
   "pygments_lexer": "ipython3",
   "version": "3.8.8"
  }
 },
 "nbformat": 4,
 "nbformat_minor": 5
}
