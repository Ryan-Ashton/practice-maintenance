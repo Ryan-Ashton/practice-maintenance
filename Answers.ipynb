{
 "cells": [
  {
   "cell_type": "markdown",
   "id": "fcb8a5c7",
   "metadata": {},
   "source": [
    "# Data Types\n",
    "\n",
    "There are 4 built-in data types in Python which can help to store collections of data. These include:\n",
    " - Lists\n",
    " - Tuples\n",
    " - Sets\n",
    " - Dictionaries\n",
    "\n",
    "### Lists\n",
    "\n",
    "A list is \"ordered\" meaning it has a defined order which will not change - only added to the end of the list. \n",
    "\n",
    "Lists also allow duplicate values.\n",
    "\n",
    "A list can also be changed \"changeable\" meaning, we can change items in a list or add and delete items from a list.\n",
    "\n",
    "### Tuples\n",
    "\n",
    "A Tuple is ordered (similar to a list)\n",
    "\n",
    "But a Tuple cannot be changed (unlike a list) - you can't remove or add or even change an item in a Tuple\n",
    "\n",
    "Tuples can have duplicates\n",
    "\n",
    "### Sets\n",
    "\n",
    "A Set doesn't have a defined order (unlike Lists and Tuples) - they can appear in different orders each time you use them.\n",
    "\n",
    "Sets can't have items changed, but you can remove or add new items to a set\n",
    "\n",
    "Sets do not allow duplicates\n",
    "\n",
    "\n",
    "### Dictionaries\n",
    "\n",
    "As of Python version 3.7, dictionaries are ordered - they have an order and it won't change\n",
    "\n",
    "Like Lists and Sets, dictionary items can be changed, removed or added\n",
    "\n",
    "Dictionaries don't allow two items with the same key (no duplicates allowed)\n",
    "\n",
    "\n",
    "### Summary\n",
    "\n",
    "| Type | Update? | Add/Delete? | Ordered | Duplicates? |\n",
    "| --- | --- | --- | --- | --- | \n",
    "| List | YES | YES | YES | YES |\n",
    "| Tuple | NO | NO | YES | YES |\n",
    "| Set | NO | YES | NO | NO |\n",
    "| Dictionary | YES | YES | YES | NO |\n",
    "\n",
    "\n",
    "### Frozen Set\n",
    "\n",
    "The frozenset() is an inbuilt function in Python which takes an iterable object as input and makes them immutable. Simply it freezes the iterable objects and makes them unchangeable."
   ]
  },
  {
   "cell_type": "code",
   "execution_count": 8,
   "id": "1fba832f",
   "metadata": {},
   "outputs": [
    {
     "name": "stdout",
     "output_type": "stream",
     "text": [
      "Should be a string <class 'str'>\n",
      "Should be a int <class 'int'>\n",
      "Should be a float <class 'float'>\n",
      "Should be a list <class 'list'>\n",
      "Should be a tuple <class 'tuple'>\n",
      "Should be a range <class 'range'>\n",
      "Should be a dictionary <class 'dict'>\n",
      "Should be a set <class 'set'>\n",
      "Should be a frozen set <class 'frozenset'>\n",
      "Should be a boolean <class 'bool'>\n"
     ]
    }
   ],
   "source": [
    "# Create the following data types..\n",
    "\n",
    "# String\n",
    "\n",
    "q = \"abc\"\n",
    "\n",
    "# Int\n",
    "\n",
    "w = 12\n",
    "\n",
    "# Float\n",
    "\n",
    "e = 1.0\n",
    "\n",
    "# List\n",
    "\n",
    "r = [\"a\"]\n",
    "\n",
    "# Tuple\n",
    "\n",
    "t = (\"a\",)\n",
    "\n",
    "# Range\n",
    "\n",
    "y = range(0,1)\n",
    "\n",
    "# Dictionary\n",
    "\n",
    "u = {\"a\": 1}\n",
    "\n",
    "# Set\n",
    "\n",
    "i = {'a','b'}\n",
    "\n",
    "# Frozen Set\n",
    "\n",
    "o = frozenset((\"a\",\"b\"))\n",
    "\n",
    "# Boolean\n",
    "\n",
    "p = True\n",
    "\n",
    "\n",
    "######### Tests ######################\n",
    "print(f\"Should be a string {type(q)}\")\n",
    "print(f\"Should be a int {type(w)}\")\n",
    "print(f\"Should be a float {type(e)}\")\n",
    "print(f\"Should be a list {type(r)}\")\n",
    "print(f\"Should be a tuple {type(t)}\")\n",
    "print(f\"Should be a range {type(y)}\")\n",
    "print(f\"Should be a dictionary {type(u)}\")\n",
    "print(f\"Should be a set {type(i)}\")\n",
    "print(f\"Should be a frozen set {type(o)}\")\n",
    "print(f\"Should be a boolean {type(p)}\")"
   ]
  },
  {
   "cell_type": "markdown",
   "id": "4d5c5bd4",
   "metadata": {},
   "source": [
    "# Multiple Variables"
   ]
  },
  {
   "cell_type": "code",
   "execution_count": 9,
   "id": "e5a9e669",
   "metadata": {},
   "outputs": [
    {
     "name": "stdout",
     "output_type": "stream",
     "text": [
      "12\n",
      "24\n",
      "36\n"
     ]
    }
   ],
   "source": [
    "# Assign multiple variables on the same line (one line)\n",
    "\n",
    "a, b, c = 12, 24, 36\n",
    "\n",
    "print(a)\n",
    "print(b)\n",
    "print(c)"
   ]
  },
  {
   "cell_type": "markdown",
   "id": "e3bc4f6b",
   "metadata": {},
   "source": [
    "# Arithmetic Operators"
   ]
  },
  {
   "cell_type": "code",
   "execution_count": 10,
   "id": "3813a390",
   "metadata": {},
   "outputs": [
    {
     "name": "stdout",
     "output_type": "stream",
     "text": [
      "All should be True\n",
      "True\n",
      "True\n",
      "True\n",
      "True\n",
      "True\n",
      "True\n",
      "True\n"
     ]
    }
   ],
   "source": [
    "# Perform the following...\n",
    "\n",
    "### Don't change ####\n",
    "a = 12\n",
    "b = 24\n",
    "c = 36\n",
    "#####################\n",
    "\n",
    "# Addition\n",
    "\n",
    "q = a + b\n",
    "\n",
    "# Minus\n",
    "\n",
    "w = c - a\n",
    "\n",
    "# Multiply\n",
    "\n",
    "e = a * b\n",
    "\n",
    "# Divide\n",
    "\n",
    "r = c / a\n",
    "\n",
    "# Modulus of 2 numbers\n",
    "\n",
    "t = a % c\n",
    "\n",
    "# Exponetial\n",
    "\n",
    "y = b ** a\n",
    "\n",
    "# Floor division \n",
    "\n",
    "u = c // a\n",
    "\n",
    "\n",
    "######### Tests ###############\n",
    "print(\"All should be True\")\n",
    "print(True) if q == 36 else print(False)\n",
    "print(True) if w == 24 else print(False)\n",
    "print(True) if e == 288 else print(False)\n",
    "print(True) if r == 3.0 else print(False)\n",
    "print(True) if t == 12 else print(False)\n",
    "print(True) if y == 36520347436056576 else print(False)\n",
    "print(True) if u == 3 else print(False)"
   ]
  },
  {
   "cell_type": "markdown",
   "id": "63613677",
   "metadata": {},
   "source": [
    "# Comparison Operators"
   ]
  },
  {
   "cell_type": "code",
   "execution_count": 11,
   "id": "ff45d730",
   "metadata": {},
   "outputs": [
    {
     "name": "stdout",
     "output_type": "stream",
     "text": [
      "All should be True\n",
      "True\n",
      "True\n",
      "True\n",
      "True\n",
      "True\n",
      "True\n"
     ]
    }
   ],
   "source": [
    "# Add the following comparison operators\n",
    "\n",
    "### Don't change ####\n",
    "a = 12\n",
    "b = 24\n",
    "c = 36\n",
    "#####################\n",
    "\n",
    "# Check if equal\n",
    "\n",
    "q = a == a\n",
    "\n",
    "# Check if not equal\n",
    "\n",
    "w = a != b\n",
    "\n",
    "# Check if greater than\n",
    "\n",
    "e = c > a\n",
    "\n",
    "# Check if less than\n",
    "\n",
    "r = a < c\n",
    "\n",
    "# Check if greater than or equal to\n",
    "\n",
    "t = c >= a\n",
    "\n",
    "# Check if less than or equal to\n",
    "\n",
    "y = a <= c\n",
    "\n",
    "\n",
    "##### Tests #################\n",
    "print(\"All should be True\")\n",
    "print(q)\n",
    "print(w)\n",
    "print(e)\n",
    "print(r)\n",
    "print(t)\n",
    "print(y)"
   ]
  },
  {
   "cell_type": "markdown",
   "id": "7d8e56f0",
   "metadata": {},
   "source": [
    "# Logical Operators"
   ]
  },
  {
   "cell_type": "code",
   "execution_count": 12,
   "id": "14c01de0",
   "metadata": {},
   "outputs": [
    {
     "name": "stdout",
     "output_type": "stream",
     "text": [
      "All should be True\n",
      "True\n",
      "True\n",
      "True\n"
     ]
    }
   ],
   "source": [
    "# Add the following logical operators\n",
    "\n",
    "\n",
    "### Don't Change ####\n",
    "a = 12\n",
    "b = 24\n",
    "c = 36\n",
    "####################\n",
    "\n",
    "# Use and\n",
    "\n",
    "q = a < c and c > a\n",
    "\n",
    "# Use or\n",
    "\n",
    "w = a < c or c > a\n",
    "\n",
    "# Use not\n",
    "\n",
    "e = not(c < a or a > c)\n",
    "\n",
    "########### Tests ############\n",
    "print(\"All should be True\")\n",
    "print(q)\n",
    "print(w)\n",
    "print(e)"
   ]
  },
  {
   "cell_type": "markdown",
   "id": "715b561c",
   "metadata": {},
   "source": [
    "# Identity Operators"
   ]
  },
  {
   "cell_type": "code",
   "execution_count": 13,
   "id": "fa17b91f",
   "metadata": {},
   "outputs": [
    {
     "name": "stdout",
     "output_type": "stream",
     "text": [
      "All should be True\n",
      "True\n",
      "True\n"
     ]
    }
   ],
   "source": [
    "# Add the following Identity operators\n",
    "\n",
    "#### Don't Change #####\n",
    "a = 12\n",
    "b = 24\n",
    "c = 36\n",
    "######################\n",
    "\n",
    "\n",
    "# Use is\n",
    "\n",
    "q = a is a\n",
    "\n",
    "# Use is not\n",
    "\n",
    "w = a is not c\n",
    "\n",
    "\n",
    "########### Tests ############\n",
    "print(\"All should be True\")\n",
    "print(q)\n",
    "print(w)"
   ]
  },
  {
   "cell_type": "markdown",
   "id": "eadf91d0",
   "metadata": {},
   "source": [
    "# Membership Operators"
   ]
  },
  {
   "cell_type": "code",
   "execution_count": 14,
   "id": "33513fd8",
   "metadata": {},
   "outputs": [
    {
     "name": "stdout",
     "output_type": "stream",
     "text": [
      "All should be True\n",
      "True\n",
      "True\n"
     ]
    }
   ],
   "source": [
    "# Add the following Membership operators\n",
    "\n",
    "#### Don't Change ######\n",
    "x = \"hello world\"\n",
    "y = \"hello\"\n",
    "#######################\n",
    "\n",
    "\n",
    "# Use in\n",
    "\n",
    "q = y in x\n",
    "\n",
    "# Use not in\n",
    "\n",
    "w = x not in y\n",
    "\n",
    "\n",
    "########### Tests ############\n",
    "print(\"All should be True\")\n",
    "print(q)\n",
    "print(w)"
   ]
  },
  {
   "cell_type": "markdown",
   "id": "eb899b3c",
   "metadata": {},
   "source": [
    "# RegEx Functions - with re\n",
    "\n",
    "### Metacharacters:\n",
    "\n",
    "| Character | Description | \n",
    "| --- | --- |  \n",
    "| [] | A set of characters | \n",
    "| \\ | Signals a special sequence |\n",
    "| . | Any character (except new line) |\n",
    "| ^ | Starts with |\n",
    "| $ | Ends with |\n",
    "| * | Zero or more occurances |\n",
    "| + | One or more occurances |\n",
    "| ? | Zero or one occurances |\n",
    "| {} | Exactly the specified number of occurances |\n",
    "| Pipe | Either or |\n",
    "| () | Capture and group | \n",
    "\n",
    "\n",
    "### Special Sequences:\n",
    "\n",
    "| Character | Description | Example | \n",
    "| --- | --- | --- |  \n",
    "| \\A | Returns a match if the specified characters are at the beginning of the string | Check if the string starts with \"The\":   **\"\\AThe\"** |\n",
    "| \\b | Returns a match where the specified characters are at the beginning or at the end of a word | Check if \"ain\" is present at the beginning of a WORD:  **\"\\bain\"** |\n",
    "| \\B | Returns a match where the specified characters are present, but NOT at the beginning (or at the end) of a word | Check if \"ain\" is present, but NOT at the beginning of a word: **\"\\Bain\"** |\n",
    "| \\d | Returns a match where the string contains digits (numbers from 0-9) | Check if the string contains any digits (numbers from 0-9): **\"\\d\"** |\n",
    "| \\D | Returns a match where the string DOES NOT contain digits | Return a match at every no-digit character: **\"\\D\"** |\n",
    "| \\s | Returns a match where the string contains a white space character | Return a match at every white-space character: **\"\\s\"** |\n",
    "| \\S | Returns a match where the string DOES NOT contain a white space character |Return a match at every NON white-space character: **\"\\S\"** |\n",
    "| \\w | Returns a match where the string contains any word characters (characters from a to Z, digits from 0-9, and the underscore _ character) | **\"\\w\"** |\n",
    "| \\W | Returns a match where the string DOES NOT contain any word characters | **\"\\W\"** |\n",
    "| \\Z | Returns a match if the specified characters are at the end of the string | Check if the string ends with \"Spain\": **\"Spain\\Z\"** |\n",
    "\n",
    "\n",
    "### Sets of Matches\n",
    "\n",
    "| Set / Example | Description | \n",
    "| --- | --- | \n",
    "| [arn] | Returns a match where one of the specified characters (a, r, or n) are present | \n",
    "| [a-n] | Returns a match for any lower case character, alphabetically between a and n | \n",
    "| [^arn] | Returns a match for any character EXCEPT a, r, and n | \n",
    "| [0123] | Returns a match where any of the specified digits (0, 1, 2, or 3) are present | \n",
    "| [0-9] | Returns a match for any digit between 0 and 9 | \n",
    "| [0-5][0-9] | Returns a match for any two-digit numbers from 00 and 59 |\n",
    "| [a-zA-Z] | Returns a match for any character alphabetically between a and z, lower case OR upper case | \n",
    "| [+] | In sets, +, *, ., |, (), $,{} has no special meaning, so [+] means: return a match for any + character in the string | "
   ]
  },
  {
   "cell_type": "code",
   "execution_count": 15,
   "id": "460f1cf9",
   "metadata": {},
   "outputs": [
    {
     "name": "stdout",
     "output_type": "stream",
     "text": [
      "All should be True\n",
      "True\n",
      "True\n",
      "True\n",
      "True\n"
     ]
    }
   ],
   "source": [
    "###### Don't Change ###############\n",
    "import re\n",
    "txt = \"Here we go again\"\n",
    "##################################\n",
    "\n",
    "\n",
    "\n",
    "# Use findall function to find \"e\"\n",
    "\n",
    "q = re.findall(\"e\", txt)\n",
    "\n",
    "\n",
    "# Use search function to find indexes of \"we\"\n",
    "\n",
    "w = re.search(\"we\", txt)\n",
    "\n",
    "\n",
    "# Use split function - use \"\\s\" to split by spaces\n",
    "\n",
    "e = re.split(\"\\s\", txt)\n",
    "\n",
    "# Use sub function to subsitute spaces for \"9\"\n",
    "\n",
    "r = re.sub(\"\\s\", \"9\", txt)\n",
    "\n",
    "\n",
    "\n",
    "############ Tests ###################\n",
    "print(\"All should be True\")\n",
    "print(True) if str(q) == \"['e', 'e', 'e']\" else print(False)\n",
    "print(True) if str(w) == \"<re.Match object; span=(5, 7), match='we'>\" else print(False)\n",
    "print(True) if str(e) == \"['Here', 'we', 'go', 'again']\" else print(False)\n",
    "print(True) if str(r) == \"Here9we9go9again\" else print(False)"
   ]
  },
  {
   "cell_type": "markdown",
   "id": "3ff5894a",
   "metadata": {},
   "source": [
    "# In-Built Python Functions\n",
    "\n",
    "### Python String Methods:\n",
    "\n",
    "| Method | Description | \n",
    "| --- | --- |\n",
    "| abs()\t| Returns the absolute value of a number |\n",
    "| all()\t| Returns True if all items in an iterable object are true |\n",
    "| any()\t| Returns True if any item in an iterable object is true |\n",
    "| ascii()\t| Returns a readable version of an object. Replaces none-ascii characters with escape character |\n",
    "| bin()\t| Returns the binary version of a number |\n",
    "| bool()\t| Returns the boolean value of the specified object |\n",
    "| bytearray()\t| Returns an array of bytes |\n",
    "| bytes()\t| Returns a bytes object |\n",
    "| callable()\t| Returns True if the specified object is callable, otherwise False |\n",
    "| chr()\t| Returns a character from the specified Unicode code. |\n",
    "| classmethod()\t| Converts a method into a class method |\n",
    "| compile()\t| Returns the specified source as an object, ready to be executed |\n",
    "| complex()\t| Returns a complex number |\n",
    "| delattr()\t| Deletes the specified attribute (property or method) from the specified object |\n",
    "| dict()\t| Returns a dictionary (Array) |\n",
    "| dir()\t| Returns a list of the specified object's properties and methods |\n",
    "| divmod()\t| Returns the quotient and the remainder when argument1 is divided by argument2 |\n",
    "| enumerate()\t| Takes a collection (e.g. a tuple) and returns it as an enumerate object |\n",
    "| eval()\t| Evaluates and executes an expression |\n",
    "| exec()\t| Executes the specified code (or object) |\n",
    "| filter()\t| Use a filter function to exclude items in an iterable object |\n",
    "| float()\t| Returns a floating point number |\n",
    "| format()\t| Formats a specified value |\n",
    "| frozenset()\t| Returns a frozenset object |\n",
    "| getattr()\t| Returns the value of the specified attribute (property or method) |\n",
    "| globals()\t| Returns the current global symbol table as a dictionary |\n",
    "| hasattr()\t| Returns True if the specified object has the specified attribute (property/method) |\n",
    "| hash()\t| Returns the hash value of a specified object |\n",
    "| help()\t| Executes the built-in help system |\n",
    "| hex()\t| Converts a number into a hexadecimal value |\n",
    "| id()\t| Returns the id of an object |\n",
    "| input()\t| Allowing user input |\n",
    "| int()\t| Returns an integer number |\n",
    "| isinstance()\t| Returns True if a specified object is an instance of a specified object |\n",
    "| issubclass()\t| Returns True if a specified class is a subclass of a specified object |\n",
    "| iter()\t| Returns an iterator object |\n",
    "| len()\t| Returns the length of an object |\n",
    "| list()\t| Returns a list |\n",
    "| locals()\t| Returns an updated dictionary of the current local symbol table |\n",
    "| map()\t| Returns the specified iterator with the specified function applied to each item |\n",
    "| max()\t| Returns the largest item in an iterable |\n",
    "| memoryview()\t| Returns a memory view object |\n",
    "| min()\t| Returns the smallest item in an iterable |\n",
    "| next()\t| Returns the next item in an iterable |\n",
    "| object()\t| Returns a new object |\n",
    "| oct()\t| Converts a number into an octal |\n",
    "| open()\t| Opens a file and returns a file object |\n",
    "| ord()\t| Convert an integer representing the Unicode of the specified character |\n",
    "| pow()\t| Returns the value of x to the power of y |\n",
    "| print()\t| Prints to the standard output device |\n",
    "| property()\t| Gets, sets, deletes a property |\n",
    "| range()\t| Returns a sequence of numbers, starting from 0 and increments by 1 (by default) |\n",
    "| repr()\t| Returns a readable version of an object |\n",
    "| reversed()\t| Returns a reversed iterator |\n",
    "| round()\t| Rounds a numbers |\n",
    "| set()\t| Returns a new set object |\n",
    "| setattr()\t| Sets an attribute (property/method) of an object |\n",
    "| slice()\t| Returns a slice object |\n",
    "| sorted()\t| Returns a sorted list |\n",
    "| staticmethod()\t| Converts a method into a static method |\n",
    "| str()\t| Returns a string object |\n",
    "| sum()\t| Sums the items of an iterator |\n",
    "| super()\t| Returns an object that represents the parent class |\n",
    "| tuple()\t| Returns a tuple |\n",
    "| type()\t| Returns the type of an object |\n",
    "| vars()\t| Returns the __dict__ property of an object |\n",
    "| zip()\t| Returns an iterator, from two or more iterators |"
   ]
  },
  {
   "cell_type": "code",
   "execution_count": 16,
   "id": "c3c1fe2d",
   "metadata": {},
   "outputs": [
    {
     "name": "stdout",
     "output_type": "stream",
     "text": [
      "<class 'str'>\n"
     ]
    }
   ],
   "source": [
    "# Use str()\n",
    "\n",
    "a = str(9)\n",
    "\n",
    "### Test ###\n",
    "print(type(a))"
   ]
  },
  {
   "cell_type": "code",
   "execution_count": 17,
   "id": "16b6d0bb",
   "metadata": {},
   "outputs": [
    {
     "name": "stdout",
     "output_type": "stream",
     "text": [
      "<class 'int'>\n"
     ]
    }
   ],
   "source": [
    "# Use int()\n",
    "\n",
    "a = int(\"9\")\n",
    "\n",
    "### Test ###\n",
    "print(type(a))"
   ]
  },
  {
   "cell_type": "code",
   "execution_count": 18,
   "id": "6b965b80",
   "metadata": {},
   "outputs": [
    {
     "name": "stdout",
     "output_type": "stream",
     "text": [
      "<class 'float'>\n"
     ]
    }
   ],
   "source": [
    "# Use float()\n",
    "\n",
    "a = float(\"9.1\")\n",
    "\n",
    "### Test ###\n",
    "print(type(a))"
   ]
  },
  {
   "cell_type": "code",
   "execution_count": 19,
   "id": "15a7ac67",
   "metadata": {},
   "outputs": [
    {
     "name": "stdout",
     "output_type": "stream",
     "text": [
      "True\n"
     ]
    }
   ],
   "source": [
    "# Use map()\n",
    "\n",
    "######## Don't Change #########\n",
    "def add_two(a):\n",
    "    return a + 2\n",
    "    \n",
    "numbers = [2,3,4,5]\n",
    "###############################\n",
    "\n",
    "\n",
    "\n",
    "x = map(add_two, numbers)\n",
    "\n",
    "\n",
    "\n",
    "\n",
    "################ Test ############################\n",
    "print(True) if list(x) == list((4,5,6,7)) else print(False)"
   ]
  },
  {
   "cell_type": "code",
   "execution_count": 20,
   "id": "aec14156",
   "metadata": {},
   "outputs": [
    {
     "name": "stdout",
     "output_type": "stream",
     "text": [
      "False\n",
      "True\n"
     ]
    }
   ],
   "source": [
    "# Use all() - checks to see if everything item in the list is True\n",
    "\n",
    "######## Don't Change #########\n",
    "random = [True, True, False]\n",
    "randomx = [True, True] \n",
    "##############################\n",
    "\n",
    "\n",
    "x = all(random)\n",
    "y = all(randomx)\n",
    "\n",
    "\n",
    "#### Test #####\n",
    "print(x) # False\n",
    "print(y) # True"
   ]
  },
  {
   "cell_type": "code",
   "execution_count": 21,
   "id": "2745ba79",
   "metadata": {},
   "outputs": [
    {
     "name": "stdout",
     "output_type": "stream",
     "text": [
      "True\n",
      "True\n"
     ]
    }
   ],
   "source": [
    "# Use any() - checks to see at least one of the values is True\n",
    "\n",
    "####### Don't Change ########\n",
    "random = [True, True, False]\n",
    "randomx = [True, True] \n",
    "#############################\n",
    "\n",
    "\n",
    "x = any(random)\n",
    "y = any(randomx)\n",
    "\n",
    "\n",
    "#### Test - should be True #####\n",
    "print(x)\n",
    "print(y)"
   ]
  },
  {
   "cell_type": "code",
   "execution_count": 22,
   "id": "211e9760",
   "metadata": {},
   "outputs": [
    {
     "name": "stdout",
     "output_type": "stream",
     "text": [
      "True\n"
     ]
    }
   ],
   "source": [
    "# Use enumerate() on the list in the variable \"q\"\n",
    "\n",
    "##### Don't Change ######\n",
    "x = ['a', 'b', 'c']\n",
    "#########################\n",
    "\n",
    "\n",
    "z = enumerate(x)\n",
    "\n",
    "\n",
    "#### Test - should be True #####\n",
    "print(True) if list(z) == [(0, 'a'), (1, 'b'), (2, 'c')] else print(False)"
   ]
  },
  {
   "cell_type": "code",
   "execution_count": 23,
   "id": "40e29e92",
   "metadata": {},
   "outputs": [
    {
     "name": "stdout",
     "output_type": "stream",
     "text": [
      "True\n"
     ]
    }
   ],
   "source": [
    "# Use filter()\n",
    "\n",
    "##### Don't Change #####\n",
    "def get_c(z):\n",
    "    if z == \"c\":\n",
    "        return True\n",
    "    else:\n",
    "        return False\n",
    "\n",
    "alp = ['a','z','c','x','b']\n",
    "############################\n",
    "\n",
    "\n",
    "\n",
    "x = filter(get_c, alp)\n",
    "\n",
    "\n",
    "\n",
    "#### Test - should be True #####\n",
    "print(True) if list(x) == ['c'] else print(False)"
   ]
  },
  {
   "cell_type": "code",
   "execution_count": 24,
   "id": "eee4d9de",
   "metadata": {},
   "outputs": [
    {
     "name": "stdout",
     "output_type": "stream",
     "text": [
      "True\n"
     ]
    }
   ],
   "source": [
    "# Use getattr() to get height of Animal\n",
    "\n",
    "#### Don't Change #######\n",
    "class Animal:\n",
    "    name = \"Bear\"\n",
    "    height = 205\n",
    "    country = \"Russia\"\n",
    "#########################\n",
    "\n",
    "\n",
    "x = getattr(Animal, 'height')\n",
    "\n",
    "\n",
    "#### Test - should be True #####\n",
    "print(True) if x == 205 else print(False)"
   ]
  },
  {
   "cell_type": "code",
   "execution_count": 25,
   "id": "9c35e26b",
   "metadata": {},
   "outputs": [
    {
     "name": "stdout",
     "output_type": "stream",
     "text": [
      "True\n"
     ]
    }
   ],
   "source": [
    "# Use slice() to return first 3 items of the list\n",
    "\n",
    "######### Don't Change #################\n",
    "a = [\"a\", \"b\", \"c\", \"d\", \"e\", \"f\", \"g\", \"h\"]\n",
    "########################################\n",
    "\n",
    "\n",
    "x = slice(3)\n",
    "\n",
    "\n",
    "#### Test - should be True #####\n",
    "print(True) if a[x] == ['a', 'b', 'c'] else print(False)"
   ]
  },
  {
   "cell_type": "code",
   "execution_count": 26,
   "id": "bdd6e75a",
   "metadata": {},
   "outputs": [
    {
     "name": "stdout",
     "output_type": "stream",
     "text": [
      "True\n"
     ]
    }
   ],
   "source": [
    "# Sort the list below and store in a variable \"x\"\n",
    "\n",
    "######## Don't Change ####################\n",
    "a = [\"z\", \"y\", \"x\", \"d\", \"e\", \"f\", \"g\", \"h\"]\n",
    "##########################################\n",
    "\n",
    "\n",
    "q = sorted(a)\n",
    "\n",
    "\n",
    "#### Test - should be True #####\n",
    "print(True) if str(q) == \"['d', 'e', 'f', 'g', 'h', 'x', 'y', 'z']\" else print(False)"
   ]
  },
  {
   "cell_type": "code",
   "execution_count": 27,
   "id": "24f799e7",
   "metadata": {},
   "outputs": [
    {
     "name": "stdout",
     "output_type": "stream",
     "text": [
      "True\n"
     ]
    }
   ],
   "source": [
    "# Use zip() - iterator of tuples\n",
    "\n",
    "####### Don't Change ######\n",
    "a = (\"dog\", \"cat\")\n",
    "b = (\"bird\", \"snake\")\n",
    "##########################\n",
    "\n",
    "\n",
    "q = zip(a,b)\n",
    "\n",
    "\n",
    "#### Test - should be True #####\n",
    "print(True) if str(tuple(q)) == \"(('dog', 'bird'), ('cat', 'snake'))\" else print(False)"
   ]
  },
  {
   "cell_type": "markdown",
   "id": "5cc7efc6",
   "metadata": {},
   "source": [
    "## Formatting with format()\n",
    "\n",
    "### Floats\n",
    "\n",
    "- e: Scientific notation\n",
    "- E: Scientific notation (Upper Case)\n",
    "- f: Fixed-point notation.\n",
    "- F: Same as \"f\" but converts 'nan' to 'NAN'\n",
    "- g: General format\n",
    "- G: Same as 'g' but utilises \"E\" scientific notation is number gets too big\n",
    "- n: Same as \"g' but utilises current locale settings\n",
    "- %: Displays % sign\n",
    "\n",
    "### Integers\n",
    "\n",
    "- b: Binary format\n",
    "- c: Unicode character\n",
    "- d: Decimal Integer\n",
    "- o: Octal format (number in base 8)\n",
    "- x: Hex format\n",
    "- X: Hex format with capital letters\n",
    "- n: Number format with locale settings\n",
    "\n",
    "\n",
    "### String\n",
    "\n",
    "- s: String format (not neccessary)\n"
   ]
  },
  {
   "cell_type": "code",
   "execution_count": 14,
   "id": "bfaa5441",
   "metadata": {},
   "outputs": [
    {
     "name": "stdout",
     "output_type": "stream",
     "text": [
      "5.28498e+22\n"
     ]
    }
   ],
   "source": [
    "# Use format()\n",
    "\n",
    "x = format(52849823792837528975927.0, 'g')\n",
    "\n",
    "### Test ###\n",
    "print(x)"
   ]
  },
  {
   "cell_type": "code",
   "execution_count": 29,
   "id": "5b601319",
   "metadata": {},
   "outputs": [
    {
     "name": "stdout",
     "output_type": "stream",
     "text": [
      "<list_iterator object at 0x000001F153111BE0>\n",
      "apple\n"
     ]
    }
   ],
   "source": [
    "# Use iter() and next() - An iterator is an object that can be iterated upon\n",
    "# meaning that you can traverse through all the values.\n",
    "\n",
    "##### Don't Change ############\n",
    "fruits_list = [\"apple\", \"banana\", \"cherry\"]\n",
    "###############################\n",
    "\n",
    "\n",
    "iterator_object = iter(fruits_list)\n",
    "\n",
    "\n",
    "####### Test ###############\n",
    "print(iterator_object)\n",
    "print(next(iterator_object))"
   ]
  },
  {
   "cell_type": "markdown",
   "id": "d92e3fd6",
   "metadata": {},
   "source": [
    "# String Manipulation\n",
    "\n",
    "All string methods returns new values. They do not change the original string.\n",
    "\n",
    "### Python String Methods:\n",
    "\n",
    "| Method | Description? | \n",
    "| --- | --- |\n",
    "| capitalize()\t| Converts the first character to upper case |\n",
    "| casefold()\t| Converts string into lower case |\n",
    "| center()\t| Returns a centered string |\n",
    "| count()\t| Returns the number of times a specified value occurs in a string |\n",
    "| encode()\t| Returns an encoded version of the string |\n",
    "| endswith()\t| Returns true if the string ends with the specified value |\n",
    "| expandtabs()\t| Sets the tab size of the string |\n",
    "| find()\t| Searches the string for a specified value and returns the position of where it was found |\n",
    "| format()\t| Formats specified values in a string |\n",
    "| format_map()\t| Formats specified values in a string |\n",
    "| index()\t| Searches the string for a specified value and returns the position of where it was found |\n",
    "| isalnum()\t| Returns True if all characters in the string are alphanumeric |\n",
    "| isalpha()\t| Returns True if all characters in the string are in the alphabet |\n",
    "| isascii()\t| Returns True if all characters in the string are ascii characters |\n",
    "| isdecimal() | Returns True if all characters in the string are decimals |\n",
    "| isdigit()\t| Returns True if all characters in the string are digits |\n",
    "| isidentifier() | Returns True if the string is an identifier |\n",
    "| islower()\t| Returns True if all characters in the string are lower case |\n",
    "| isnumeric()\t| Returns True if all characters in the string are numeric |\n",
    "| isprintable()\t| Returns True if all characters in the string are printable |\n",
    "| isspace()\t| Returns True if all characters in the string are whitespaces |\n",
    "| istitle()\t| Returns True if the string follows the rules of a title |\n",
    "| isupper()\t| Returns True if all characters in the string are upper case |\n",
    "| join()\t| Converts the elements of an iterable into a string |\n",
    "| ljust()\t| Returns a left justified version of the string |\n",
    "| lower()\t| Converts a string into lower case |\n",
    "| lstrip()\t| Returns a left trim version of the string |\n",
    "| maketrans()\t| Returns a translation table to be used in translations |\n",
    "| partition()\t| Returns a tuple where the string is parted into three parts |\n",
    "| replace()\t| Returns a string where a specified value is replaced with a specified value |\n",
    "| rfind()\t| Searches the string for a specified value and returns the last position of where it was found |\n",
    "| rindex()\t| Searches the string for a specified value and returns the last position of where it was found |\n",
    "| rjust()\t| Returns a right justified version of the string |\n",
    "| rpartition()\t| Returns a tuple where the string is parted into three parts |\n",
    "| rsplit()\t| Splits the string at the specified separator, and returns a list |\n",
    "| rstrip()\t| Returns a right trim version of the string |\n",
    "| split()\t| Splits the string at the specified separator, and returns a list |\n",
    "| splitlines()\t| Splits the string at line breaks and returns a list |\n",
    "| startswith()\t| Returns true if the string starts with the specified value |\n",
    "| strip()\t| Returns a trimmed version of the string |\n",
    "| swapcase()\t| Swaps cases, lower case becomes upper case and vice versa |\n",
    "| title()\t| Converts the first character of each word to upper case |\n",
    "| translate()\t| Returns a translated string |\n",
    "| upper()\t| Converts a string into upper case |\n",
    "| zfill()\t| Fills the string with a specified number of 0 values at the beginning |\n"
   ]
  },
  {
   "cell_type": "code",
   "execution_count": 30,
   "id": "71141d09",
   "metadata": {},
   "outputs": [
    {
     "name": "stdout",
     "output_type": "stream",
     "text": [
      "All should be True\n",
      "True\n",
      "True\n",
      "True\n",
      "True\n",
      "True\n",
      "True\n",
      "True\n",
      "True\n"
     ]
    }
   ],
   "source": [
    "# Complete the following string manipulations\n",
    "\n",
    "# Concatenate 2 strings\n",
    "\n",
    "q = \"ba\" + \"ba\"\n",
    "\n",
    "\n",
    "# Use the string format() function\n",
    "\n",
    "name = \"Ryan\"\n",
    "w = \"My name is \" + format(name)\n",
    "\n",
    "\n",
    "\n",
    "# print function with f string\n",
    "\n",
    "name = \"Ryan\"\n",
    "\n",
    "e = f\"My name is {name}\"\n",
    "\n",
    "\n",
    "\n",
    "# Create a multi-line string\n",
    "\n",
    "r = \"\"\"\n",
    "This is a\n",
    "multi-line string\n",
    "\"\"\"\n",
    "\n",
    "\n",
    "# Remove whitespace from a string with strip()\n",
    "\n",
    "a = \"This is a string with trailing whitespace   \"\n",
    "\n",
    "t = a.strip()\n",
    "\n",
    "\n",
    "\n",
    "# Replace a \"Apple\" with \"Orange\" in a string with replace()\n",
    "\n",
    "a = \"I am saying Apple, but I mean something else\"\n",
    "\n",
    "y = a.replace(\"Apple\", \"Orange\")\n",
    "\n",
    "\n",
    "\n",
    "# Split a string by a delimiter with split()\n",
    "\n",
    "a = \"This;doesnt;look;right\"\n",
    "\n",
    "u = a.split(\";\")\n",
    "\n",
    "\n",
    "\n",
    "# Use the join function, to convert tuple to string - seperated by #\n",
    "\n",
    "myTuple = (\"John\", \"Peter\", \"Vicky\")\n",
    "\n",
    "i = \"#\".join(myTuple)\n",
    "\n",
    "\n",
    "\n",
    "# Use an escape character - \\\n",
    "\n",
    "o = \"Fix me\\\"Text\\\"please\"\n",
    "\n",
    "\n",
    "\n",
    "\n",
    "###### Tests - All Should be True #############################\n",
    "print(\"All should be True\")\n",
    "print(True) if str(q) == \"baba\" else print(False)\n",
    "print(True) if str(w) == \"My name is Ryan\" else print(False)\n",
    "print(True) if str(e) == \"My name is Ryan\" else print(False)\n",
    "print(True) if str(r) == \"\"\"\n",
    "This is a\n",
    "multi-line string\n",
    "\"\"\" else print(False)\n",
    "print(True) if str(t) == \"This is a string with trailing whitespace\" else print(False)\n",
    "print(True) if str(y) == \"I am saying Orange, but I mean something else\" else print(False)\n",
    "print(True) if str(u) == \"['This', 'doesnt', 'look', 'right']\" else print(False)\n",
    "print(True) if str(i) == \"John#Peter#Vicky\" else print(False)"
   ]
  },
  {
   "cell_type": "markdown",
   "id": "bacf53f5",
   "metadata": {},
   "source": [
    "# Collection data type: List\n",
    "\n",
    "### Built in methods for Lists:\n",
    "\n",
    "| Method | Description | \n",
    "| --- | --- |  \n",
    "| append() | Adds an element at the end of the list |\n",
    "| clear() | Removes all the elements from the list |\n",
    "| copy() | Returns a copy of the list |\n",
    "| count() | Returns the number of elements with the specified value |\n",
    "| extend() | Add the elements of a list (or any iterable), to the end of the current list |\n",
    "| index() | Returns the index of the first element with the specified value |\n",
    "| insert() | Adds an element at the specified position |\n",
    "| pop() | Removes the element at the specified position |\n",
    "| remove() | Removes the first item with the specified value |\n",
    "| reverse() | Reverses the order of the list |\n",
    "| sort() | Sorts the list |"
   ]
  },
  {
   "cell_type": "code",
   "execution_count": 31,
   "id": "cbeed376",
   "metadata": {},
   "outputs": [
    {
     "name": "stdout",
     "output_type": "stream",
     "text": [
      "This should be a list: <class 'list'>\n",
      "This should be the number 2: 2\n",
      "True\n",
      "True\n",
      "True\n",
      "True\n"
     ]
    }
   ],
   "source": [
    "###### Don't Change ##############\n",
    "q = [\"this\", \"is\", \"a\", \"list\"]\n",
    "#################################\n",
    "\n",
    "# Create the same list above with the list function list()\n",
    "\n",
    "q = list((\"this\", \"is\", \"a\", \"list\"))\n",
    "\n",
    "# Find the index of \"a\" within the list above using index()\n",
    "\n",
    "w = q.index(\"a\")\n",
    "\n",
    "# Sort the list in ascending order using sorted()\n",
    "\n",
    "e = sorted(q)\n",
    "\n",
    "# Sort a list in descending order\n",
    "\n",
    "r = sorted(q, reverse=True)\n",
    "\n",
    "# Reverse the list using reversed()\n",
    "\n",
    "t = reversed(q)\n",
    "\n",
    "# Create a copy of the list above using copy()\n",
    "\n",
    "y = q.copy()\n",
    "\n",
    "\n",
    "\n",
    "################ Tests ######################################\n",
    "print(f\"This should be a list: {type(q)}\")\n",
    "print(f\"This should be the number 2: {w}\")\n",
    "print(True) if str(e) == \"['a', 'is', 'list', 'this']\" else print(False)\n",
    "print(True) if str(r) == \"['this', 'list', 'is', 'a']\" else print(False)\n",
    "print(True) if str(list(t)) == \"['list', 'a', 'is', 'this']\" else print(False)\n",
    "print(True) if str(y) == \"['this', 'is', 'a', 'list']\" else print(False)"
   ]
  },
  {
   "cell_type": "code",
   "execution_count": 32,
   "id": "3907aad6",
   "metadata": {},
   "outputs": [
    {
     "name": "stdout",
     "output_type": "stream",
     "text": [
      "True\n"
     ]
    }
   ],
   "source": [
    "# Add 36 to the end of the list using append() - don't assign it to a variable\n",
    "\n",
    "## Don't Change ##\n",
    "q = [\"this\", \"is\", \"a\", \"list\"]\n",
    "x = 36\n",
    "#################\n",
    "\n",
    "\n",
    "q.append(x)\n",
    "\n",
    "\n",
    "\n",
    "####### Test - Should Return True ###########################\n",
    "u = q\n",
    "print(True) if str(u) == \"['this', 'is', 'a', 'list', 36]\" else print(False)"
   ]
  },
  {
   "cell_type": "code",
   "execution_count": 33,
   "id": "7621bc7a",
   "metadata": {},
   "outputs": [
    {
     "name": "stdout",
     "output_type": "stream",
     "text": [
      "True\n"
     ]
    }
   ],
   "source": [
    "# Add to the end of the list with another list by addition\n",
    "\n",
    "### Don't Change ###\n",
    "q = [\"this\", \"is\", \"a\", \"list\"]\n",
    "new_list = [\"abc\"]\n",
    "###################\n",
    "\n",
    "\n",
    "i = q + new_list\n",
    "\n",
    "\n",
    "################# Test - Should return True ########################\n",
    "print(True) if str(i) == \"['this', 'is', 'a', 'list', 'abc']\" else print(False)"
   ]
  },
  {
   "cell_type": "code",
   "execution_count": 101,
   "id": "cf67c071",
   "metadata": {},
   "outputs": [
    {
     "name": "stdout",
     "output_type": "stream",
     "text": [
      "True\n"
     ]
    }
   ],
   "source": [
    "# Add the items from a tuple to the end of the list using extend()\n",
    "\n",
    "### Don't Change ###\n",
    "q = [\"this\", \"is\", \"a\", \"list\"]\n",
    "b = (99,101)\n",
    "###################\n",
    "\n",
    "\n",
    "q.extend(b)\n",
    "\n",
    "\n",
    "################# Test - Should return True ########################\n",
    "o = q\n",
    "print(True) if str(o) == \"['this', 'is', 'a', 'list', 99, 101]\" else print(False)"
   ]
  },
  {
   "cell_type": "code",
   "execution_count": 104,
   "id": "359047b2",
   "metadata": {},
   "outputs": [
    {
     "name": "stdout",
     "output_type": "stream",
     "text": [
      "True\n"
     ]
    }
   ],
   "source": [
    "# Add \"hello world\" to the 2nd position of the list using insert()\n",
    "\n",
    "### Don't Change ###\n",
    "q = [\"this\", \"is\", \"a\", \"list\"]\n",
    "###################\n",
    "\n",
    "q.insert(1, \"hello world\")\n",
    "\n",
    "\n",
    "################# Test - Should return True ########################\n",
    "p = q\n",
    "print(True) if str(p) == \"['this', 'hello world', 'is', 'a', 'list']\" else print(False)"
   ]
  },
  {
   "cell_type": "code",
   "execution_count": 105,
   "id": "ca51a966",
   "metadata": {},
   "outputs": [
    {
     "name": "stdout",
     "output_type": "stream",
     "text": [
      "True\n"
     ]
    },
    {
     "name": "stderr",
     "output_type": "stream",
     "text": [
      "<>:9: SyntaxWarning: \"is not\" with a literal. Did you mean \"!=\"?\n",
      "<>:9: SyntaxWarning: \"is not\" with a literal. Did you mean \"!=\"?\n",
      "<ipython-input-105-fec25c4fa2ba>:9: SyntaxWarning: \"is not\" with a literal. Did you mean \"!=\"?\n",
      "  print(\"hello world\" is not \" \".join([str(elem) for elem in z]))\n"
     ]
    }
   ],
   "source": [
    "# Remove the \"hello world\" item from the list using remove() \n",
    "\n",
    "\n",
    "q.remove(\"hello world\")\n",
    "\n",
    "\n",
    "################# Test - Should return True ########################\n",
    "z = q\n",
    "print(\"hello world\" is not \" \".join([str(elem) for elem in z]))"
   ]
  },
  {
   "cell_type": "code",
   "execution_count": 106,
   "id": "c7a9b0ca",
   "metadata": {},
   "outputs": [
    {
     "name": "stdout",
     "output_type": "stream",
     "text": [
      "['this', 'hello world', 'is', 'a', 'list']\n",
      "['this', 'hello world', 'is', 'list']\n"
     ]
    }
   ],
   "source": [
    "# Remove specific item from a list using its index with pop()\n",
    "\n",
    "#### Don't Change ####\n",
    "q = ['this', 'hello world', 'is', 'a', 'list']\n",
    "print(q)\n",
    "###############\n",
    "\n",
    "\n",
    "q.pop(3)\n",
    "\n",
    "\n",
    "#### Test ####\n",
    "x = q\n",
    "print(q)"
   ]
  },
  {
   "cell_type": "code",
   "execution_count": 38,
   "id": "2c6f945c",
   "metadata": {},
   "outputs": [
    {
     "name": "stdout",
     "output_type": "stream",
     "text": [
      "[]\n"
     ]
    }
   ],
   "source": [
    "# Keep the list, but remove all its items with clear()\n",
    "\n",
    "#### Don't Change ####\n",
    "q = ['this', 'hello world', 'is', 'a', 'list']\n",
    "print(q)\n",
    "###############\n",
    "\n",
    "\n",
    "q.clear()\n",
    "\n",
    "\n",
    "#### Test ####\n",
    "c = q\n",
    "print(c)"
   ]
  },
  {
   "cell_type": "code",
   "execution_count": 39,
   "id": "16b6398e",
   "metadata": {},
   "outputs": [
    {
     "name": "stdout",
     "output_type": "stream",
     "text": [
      "[]\n"
     ]
    },
    {
     "ename": "NameError",
     "evalue": "name 'q' is not defined",
     "output_type": "error",
     "traceback": [
      "\u001b[1;31m---------------------------------------------------------------------------\u001b[0m",
      "\u001b[1;31mNameError\u001b[0m                                 Traceback (most recent call last)",
      "\u001b[1;32m<ipython-input-39-24812f64a1c5>\u001b[0m in \u001b[0;36m<module>\u001b[1;34m\u001b[0m\n\u001b[0;32m     10\u001b[0m \u001b[1;33m\u001b[0m\u001b[0m\n\u001b[0;32m     11\u001b[0m \u001b[1;31m#### Test ####\u001b[0m\u001b[1;33m\u001b[0m\u001b[1;33m\u001b[0m\u001b[1;33m\u001b[0m\u001b[0m\n\u001b[1;32m---> 12\u001b[1;33m \u001b[0mq\u001b[0m\u001b[1;33m\u001b[0m\u001b[1;33m\u001b[0m\u001b[0m\n\u001b[0m",
      "\u001b[1;31mNameError\u001b[0m: name 'q' is not defined"
     ]
    }
   ],
   "source": [
    "# Delete the entire list with del\n",
    "\n",
    "#### Don't Delete ####\n",
    "q = ['this', 'hello world', 'is', 'a', 'list']\n",
    "print(q)\n",
    "##############\n",
    "\n",
    "\n",
    "del q\n",
    "\n",
    "\n",
    "#### Test ####\n",
    "q"
   ]
  },
  {
   "cell_type": "markdown",
   "id": "e78b6dc2",
   "metadata": {},
   "source": [
    "# Slice Lists\n",
    "\n",
    "### List[ Initial : End : IndexJump ]"
   ]
  },
  {
   "cell_type": "code",
   "execution_count": 40,
   "id": "a09caa5c",
   "metadata": {},
   "outputs": [
    {
     "name": "stdout",
     "output_type": "stream",
     "text": [
      "True\n",
      "True\n",
      "True\n",
      "True\n"
     ]
    }
   ],
   "source": [
    "# Complete all slicing questions...\n",
    "\n",
    "######## Don't Change ################\n",
    "a = [23, 3, 86, 2, 89, 99, 101, 32, 65]\n",
    "######################################\n",
    "\n",
    "\n",
    "# Get the first item in the list\n",
    "\n",
    "q = a[0]\n",
    "\n",
    "# Get the last item in the list (negative indexing)\n",
    "\n",
    "w = a[-1]\n",
    "\n",
    "# Sequence slicing - get the 2nd and 3rd items in list\n",
    "\n",
    "e = a[1:3]\n",
    "\n",
    "# Sequence Item Picking - get every 2nd item starting at index 0\n",
    "\n",
    "r = a[::2]\n",
    "\n",
    "\n",
    "\n",
    "################# Test - Should return True ########################\n",
    "print(True) if q == 23 else print(False)\n",
    "print(True) if w == 65 else print(False)\n",
    "print(True) if e == list((3,86)) else print(False)\n",
    "print(True) if r == list((23, 86, 89, 101, 65)) else print(False)"
   ]
  },
  {
   "cell_type": "markdown",
   "id": "7c4a2637",
   "metadata": {},
   "source": [
    "# Collection data type: Dictionary\n",
    "\n",
    "### Built in methods for Dictionaries:\n",
    "\n",
    "| Method | Description | \n",
    "| --- | --- |  \n",
    "| clear() | Removes all the elements from the dictionary |\n",
    "| copy() | Returns a copy of the dictionary |\n",
    "| fromkeys() | Returns a dictionary with the specified keys and value |\n",
    "| get() | Returns the value of the specified key |\n",
    "| items() | Returns a list containing a tuple for each key value pair |\n",
    "| keys() | Returns a list containing the dictionary's keys |\n",
    "| values() | Returns a list of all the values in the dictionary |\n",
    "| pop() | Removes the element at the specified key |\n",
    "| popitem() | Removes the last inserted key-value pair |\n",
    "| setdefault() | Returns the value of the specified key. If the key does not exist: insert the key, with the specified value |\n",
    "| update() | Updates the dictionary with the specified key-value pairs |"
   ]
  },
  {
   "cell_type": "code",
   "execution_count": 41,
   "id": "4af6d6de",
   "metadata": {},
   "outputs": [
    {
     "name": "stdout",
     "output_type": "stream",
     "text": [
      "This should be a dictionary: <class 'dict'>\n",
      "All should be True:\n",
      "True\n",
      "True\n",
      "True\n",
      "True\n",
      "True\n",
      "True\n"
     ]
    }
   ],
   "source": [
    "#The dictionary\n",
    "\n",
    "########## Don't Delete ###########################\n",
    "q = {\"name\": \"bob\", \"age\": 21, \"occupation\": \"painter\"}\n",
    "###################################################\n",
    "\n",
    "# Copy the dictionary above with dict() function\n",
    "\n",
    "q = dict(name = \"bob\", age = 21, occupation = \"painter\")\n",
    "\n",
    "\n",
    "\n",
    "# Print the Keys of the dictionary created \n",
    "\n",
    "w = q.keys()\n",
    "\n",
    "# Print the Values of the dictionary created \n",
    "e = q.values()\n",
    "\n",
    "# Print the \"name\" Value of the dictionary using get()\n",
    "\n",
    "r = q.get(\"name\")\n",
    "\n",
    "# Return the \"name\" value of a key without a function\n",
    "\n",
    "t = q[\"name\"]\n",
    "\n",
    "# Print the key:value pairs of a dictionary using items()\n",
    "\n",
    "y = q.items()\n",
    "\n",
    "\n",
    "# Make a copy of a dictionary using copy()\n",
    "\n",
    "u = q.copy()\n",
    "\n",
    "\n",
    "############## Tests ############################################\n",
    "print(f\"This should be a dictionary: {type(q)}\")\n",
    "print(\"All should be True:\")\n",
    "print(True) if str(w) == \"dict_keys(['name', 'age', 'occupation'])\" else print(False)\n",
    "print(True) if str(e) == \"dict_values(['bob', 21, 'painter'])\" else print(False)\n",
    "print(True) if str(r) == \"bob\" else print(False)\n",
    "print(True) if str(t) == \"bob\" else print(False)\n",
    "print(True) if str(y) == \"dict_items([('name', 'bob'), ('age', 21), ('occupation', 'painter')])\" else print(False)\n",
    "print(True) if str(u) == \"{'name': 'bob', 'age': 21, 'occupation': 'painter'}\" else print(False)\n"
   ]
  },
  {
   "cell_type": "code",
   "execution_count": 42,
   "id": "03d845a5",
   "metadata": {},
   "outputs": [
    {
     "name": "stdout",
     "output_type": "stream",
     "text": [
      "{'name': 'bob', 'age': 21, 'occupation': 'painter'}\n",
      "{'name': 'bob', 'age': 23, 'occupation': 'painter'}\n"
     ]
    }
   ],
   "source": [
    "########## Don't Change ###########################\n",
    "q = {\"name\": \"bob\", \"age\": 21, \"occupation\": \"painter\"}\n",
    "print(q) # Test\n",
    "####################################################\n",
    "\n",
    "# Update the age value within the dictionary above\n",
    "\n",
    "q[\"age\"] = 23\n",
    "\n",
    "u = q\n",
    "\n",
    "## Test ##\n",
    "print(u)"
   ]
  },
  {
   "cell_type": "code",
   "execution_count": 43,
   "id": "8889fa47",
   "metadata": {},
   "outputs": [
    {
     "name": "stdout",
     "output_type": "stream",
     "text": [
      "{'name': 'bob', 'age': 21, 'occupation': 'painter'}\n",
      "{'name': 'Sally', 'age': 21, 'occupation': 'painter'}\n"
     ]
    }
   ],
   "source": [
    "########## Don't Change ###########################\n",
    "q = {\"name\": \"bob\", \"age\": 21, \"occupation\": \"painter\"}\n",
    "print(q) # Test\n",
    "####################################################\n",
    "\n",
    "# Update the \"name\" value to \"Sally\" using update()\n",
    "\n",
    "q.update({\"name\": \"Sally\"})\n",
    "\n",
    "## Test ##\n",
    "print(q)"
   ]
  },
  {
   "cell_type": "code",
   "execution_count": 44,
   "id": "1bcd94ba",
   "metadata": {},
   "outputs": [
    {
     "name": "stdout",
     "output_type": "stream",
     "text": [
      "{'name': 'bob', 'age': 21, 'occupation': 'painter'}\n"
     ]
    },
    {
     "data": {
      "text/plain": [
       "{'name': 'bob', 'age': 21, 'occupation': 'painter', 'new': 'new_val'}"
      ]
     },
     "execution_count": 44,
     "metadata": {},
     "output_type": "execute_result"
    }
   ],
   "source": [
    "########## Don't Change ###########################\n",
    "q = {\"name\": \"bob\", \"age\": 21, \"occupation\": \"painter\"}\n",
    "print(q) # Test\n",
    "####################################################\n",
    "\n",
    "# Add a key:value pair to a dictionary using update()\n",
    "\n",
    "q.update({\"new\":\"new_val\"})\n",
    "\n",
    "## Test ##\n",
    "q"
   ]
  },
  {
   "cell_type": "code",
   "execution_count": 45,
   "id": "00137f71",
   "metadata": {},
   "outputs": [
    {
     "name": "stdout",
     "output_type": "stream",
     "text": [
      "{'name': 'bob', 'age': 21, 'occupation': 'painter', 'new': 'new_val'}\n"
     ]
    },
    {
     "data": {
      "text/plain": [
       "{'name': 'bob', 'age': 21, 'occupation': 'painter'}"
      ]
     },
     "execution_count": 45,
     "metadata": {},
     "output_type": "execute_result"
    }
   ],
   "source": [
    "# Remove an item from a dictionary using pop()\n",
    "\n",
    "### Test ###\n",
    "q = {\"name\": \"bob\", \"age\": 21, \"occupation\": \"painter\"}\n",
    "print(q)\n",
    "###########\n",
    "\n",
    "\n",
    "q.pop(\"new\")\n",
    "\n",
    "\n",
    "\n",
    "## Test ##\n",
    "q"
   ]
  },
  {
   "cell_type": "code",
   "execution_count": 46,
   "id": "56ed2ce5",
   "metadata": {},
   "outputs": [
    {
     "name": "stdout",
     "output_type": "stream",
     "text": [
      "{'name': 'bob', 'age': 21, 'occupation': 'painter'}\n"
     ]
    },
    {
     "data": {
      "text/plain": [
       "{'name': 'bob', 'age': 21}"
      ]
     },
     "execution_count": 46,
     "metadata": {},
     "output_type": "execute_result"
    }
   ],
   "source": [
    "# Remove the last item from a dictionary using popitem()\n",
    "\n",
    "### Test ###\n",
    "q = {\"name\": \"bob\", \"age\": 21, \"occupation\": \"painter\"}\n",
    "print(q)\n",
    "###########\n",
    "\n",
    "q.popitem()\n",
    "\n",
    "## Test ##\n",
    "q"
   ]
  },
  {
   "cell_type": "code",
   "execution_count": 47,
   "id": "d116412e",
   "metadata": {},
   "outputs": [
    {
     "name": "stdout",
     "output_type": "stream",
     "text": [
      "{'name': 'bob', 'age': 21}\n"
     ]
    },
    {
     "data": {
      "text/plain": [
       "{'age': 21}"
      ]
     },
     "execution_count": 47,
     "metadata": {},
     "output_type": "execute_result"
    }
   ],
   "source": [
    "# Delete an item with a specific key name \n",
    "\n",
    "### Test ###\n",
    "q = {\"name\": \"bob\", \"age\": 21, \"occupation\": \"painter\"}\n",
    "print(q)\n",
    "###########\n",
    "\n",
    "\n",
    "del q[\"name\"]\n",
    "\n",
    "\n",
    "## Test ##\n",
    "q"
   ]
  },
  {
   "cell_type": "code",
   "execution_count": 48,
   "id": "ec77d0d9",
   "metadata": {},
   "outputs": [
    {
     "name": "stdout",
     "output_type": "stream",
     "text": [
      "{'age': 21}\n"
     ]
    },
    {
     "data": {
      "text/plain": [
       "{}"
      ]
     },
     "execution_count": 48,
     "metadata": {},
     "output_type": "execute_result"
    }
   ],
   "source": [
    "# Keep the dictionary, but empty it out using clear()\n",
    "\n",
    "### Test ###\n",
    "q = {\"name\": \"bob\", \"age\": 21, \"occupation\": \"painter\"}\n",
    "print(q)\n",
    "###########\n",
    "\n",
    "\n",
    "q.clear()\n",
    "\n",
    "\n",
    "## Test ##\n",
    "q"
   ]
  },
  {
   "cell_type": "markdown",
   "id": "27529b87",
   "metadata": {},
   "source": [
    "# Collection data type: Tuple\n",
    "\n",
    "### Built in methods for Tuples:\n",
    "\n",
    "| Method | Description | \n",
    "| --- | --- |  \n",
    "| count() | Returns the number of times a specified value occurs in a tuple |\n",
    "| index() | Searches the tuple for a specified value and returns the position of where it was found |"
   ]
  },
  {
   "cell_type": "code",
   "execution_count": 49,
   "id": "520916a1",
   "metadata": {},
   "outputs": [
    {
     "name": "stdout",
     "output_type": "stream",
     "text": [
      "This should be a Tuple: <class 'tuple'>\n",
      "This should be a Tuple: <class 'tuple'>\n",
      "True\n",
      "True\n",
      "True\n",
      "True\n",
      "True\n"
     ]
    }
   ],
   "source": [
    "# Tuple\n",
    "\n",
    "############# Don't Change ###############\n",
    "q = (\"df\", \"pd\", \"np\", \"sns\", \"plt\", \"pd\")\n",
    "##########################################\n",
    "\n",
    "\n",
    "# Create the tuple above with the tuple() function\n",
    "\n",
    "q = tuple((\"df\", \"pd\", \"np\", \"sns\", \"plt\", \"pd\"))\n",
    "\n",
    "# Create a Tuple with 1 item\n",
    "\n",
    "w = (\"a\", )\n",
    "\n",
    "# Get the first item of a Tuple\n",
    "\n",
    "e = q[0]\n",
    "\n",
    "# Get the last item of a Tuple\n",
    "\n",
    "r = q[-1]\n",
    "\n",
    "# Get the first 4 items of a Tuple\n",
    "\n",
    "t = q[0:4]\n",
    "\n",
    "# Get the last 3 items of a Tuple\n",
    "\n",
    "y = q[-3:]\n",
    "\n",
    "# Return the count of \"pd\" in a Tuple using count()\n",
    "\n",
    "u = q.count('pd')\n",
    "\n",
    "\n",
    "\n",
    "################ Tests ###################################\n",
    "print(f\"This should be a Tuple: {type(q)}\")\n",
    "print(f\"This should be a Tuple: {type(w)}\")\n",
    "print(True) if str(e) == \"df\" else print(False)\n",
    "print(True) if str(r) == \"pd\" else print(False)\n",
    "print(True) if str(t) == \"('df', 'pd', 'np', 'sns')\" else print(False)\n",
    "print(True) if str(y) == \"('sns', 'plt', 'pd')\" else print(False)\n",
    "print(True) if str(u) == \"2\" else print(False)\n"
   ]
  },
  {
   "cell_type": "markdown",
   "id": "20864fa8",
   "metadata": {},
   "source": [
    "# Collection data type: Set\n",
    "\n",
    "### Built in methods for Sets:\n",
    "\n",
    "| Method | Description | \n",
    "| --- | --- |  \n",
    "| add() | Adds an element to the set |\n",
    "| clear() | Removes all the elements from the set |\n",
    "| copy() | Returns a copy of the set |\n",
    "| difference() | Returns a set containing the difference between two or more sets |\n",
    "| difference_update() | Removes the items in this set that are also included in another, specified set |\n",
    "| discard() | Remove the specified item |\n",
    "| intersection() | Returns a set, that is the intersection of two or more sets |\n",
    "| intersection_update() | Removes the items in this set that are not present in other, specified set(s) |\n",
    "| isdisjoint() | Returns whether two sets have a intersection or not |\n",
    "| issubset() | \tReturns whether another set contains this set or not |\n",
    "| issuperset() | Returns whether this set contains another set or not |\n",
    "| pop() | Removes an element from the set |\n",
    "| remove() | Removes the specified element |\n",
    "| symmetric_difference() | Returns a set with the symmetric differences of two sets |\n",
    "| symmetric_difference_update() | inserts the symmetric differences from this set and another |\n",
    "| union() | Return a set containing the union of sets |\n",
    "| update() | Update the set with another set, or any other iterable |"
   ]
  },
  {
   "cell_type": "code",
   "execution_count": 50,
   "id": "0b3f61d2",
   "metadata": {},
   "outputs": [
    {
     "name": "stdout",
     "output_type": "stream",
     "text": [
      "The type should be a Set <class 'set'>\n",
      "{1, 2, 'a', 'b', '54'}\n"
     ]
    }
   ],
   "source": [
    "# Create a Set\n",
    "\n",
    "######## Don't Change #####\n",
    "q =  {1, 2, 'a', 'b'}\n",
    "###########################\n",
    "\n",
    "# Create the Set above using set() function\n",
    "\n",
    "q = set((1, 2, 'a', 'b'))\n",
    "\n",
    "\n",
    "# Join q and b together using union()\n",
    "\n",
    "######## Don't Change #####\n",
    "b = {'54'}\n",
    "###########################\n",
    "\n",
    "t = q.union(b)\n",
    "\n",
    "################ Tests ###################################\n",
    "print(f\"The type should be a Set {type(q)}\")\n",
    "print(t)"
   ]
  },
  {
   "cell_type": "code",
   "execution_count": 51,
   "id": "23fe75d8",
   "metadata": {},
   "outputs": [
    {
     "data": {
      "text/plain": [
       "{1, 2, 'a', 'b', 'x', 'y', 'z'}"
      ]
     },
     "execution_count": 51,
     "metadata": {},
     "output_type": "execute_result"
    }
   ],
   "source": [
    "######## Don't Change #####\n",
    "q =  {1, 2, 'a', 'b'}\n",
    "###########################\n",
    "\n",
    "# Add \"xyz\" to a set using update()\n",
    "\n",
    "\n",
    "q.update(\"zyx\")\n",
    "\n",
    "\n",
    "## Test ##\n",
    "q"
   ]
  },
  {
   "cell_type": "code",
   "execution_count": 52,
   "id": "f619d59d",
   "metadata": {},
   "outputs": [
    {
     "data": {
      "text/plain": [
       "{1, 2, 'b'}"
      ]
     },
     "execution_count": 52,
     "metadata": {},
     "output_type": "execute_result"
    }
   ],
   "source": [
    "######## Don't Change #####\n",
    "q =  {1, 2, 'a', 'b'}\n",
    "###########################\n",
    "\n",
    "# Delete from a Set using remove()\n",
    "\n",
    "q.remove('a')\n",
    "\n",
    "## Test ##\n",
    "q"
   ]
  },
  {
   "cell_type": "code",
   "execution_count": 53,
   "id": "864764e7",
   "metadata": {},
   "outputs": [
    {
     "data": {
      "text/plain": [
       "{1, 'a', 'b'}"
      ]
     },
     "execution_count": 53,
     "metadata": {},
     "output_type": "execute_result"
    }
   ],
   "source": [
    "######## Don't Change #####\n",
    "q =  {1, 2, 'a', 'b'}\n",
    "###########################\n",
    "\n",
    "# Delete from a Set using discard()\n",
    "\n",
    "q.discard(2)\n",
    "\n",
    "## Test ##\n",
    "q"
   ]
  },
  {
   "cell_type": "code",
   "execution_count": 54,
   "id": "da77b286",
   "metadata": {},
   "outputs": [
    {
     "data": {
      "text/plain": [
       "{'a', 'b'}"
      ]
     },
     "execution_count": 54,
     "metadata": {},
     "output_type": "execute_result"
    }
   ],
   "source": [
    "# Only keep duplicates from a Set using intersection_update()\n",
    "\n",
    "######## Don't Change #####\n",
    "q =  {1, 2, 'a', 'b'}\n",
    "a = {'a','b'}\n",
    "###########################\n",
    "\n",
    "q.intersection_update(a)\n",
    "\n",
    "## Test ##\n",
    "q"
   ]
  },
  {
   "cell_type": "code",
   "execution_count": 55,
   "id": "7fc8ebf5",
   "metadata": {},
   "outputs": [
    {
     "data": {
      "text/plain": [
       "{1, 2}"
      ]
     },
     "execution_count": 55,
     "metadata": {},
     "output_type": "execute_result"
    }
   ],
   "source": [
    "# Only keep non-duplicates from a Set using symmetric_difference_update()\n",
    "\n",
    "######## Don't Change #####\n",
    "q =  {1, 2, 'a', 'b'}\n",
    "a = {'a','b'}\n",
    "###########################\n",
    "\n",
    "q.symmetric_difference_update(a)\n",
    "\n",
    "## Test ##\n",
    "q"
   ]
  },
  {
   "cell_type": "markdown",
   "id": "5fbefb35",
   "metadata": {},
   "source": [
    "# IF statements"
   ]
  },
  {
   "cell_type": "code",
   "execution_count": 56,
   "id": "51a0e98d",
   "metadata": {},
   "outputs": [
    {
     "name": "stdout",
     "output_type": "stream",
     "text": [
      "True\n"
     ]
    }
   ],
   "source": [
    "# Create IF statement with AND logic - return print true with the variables\n",
    "\n",
    "## Don't Change ##\n",
    "a = 24\n",
    "b = 36\n",
    "##################\n",
    "\n",
    "\n",
    "if a > 12 and a < 100:\n",
    "    print(True)\n",
    "else:\n",
    "    print(False)\n",
    "    \n"
   ]
  },
  {
   "cell_type": "code",
   "execution_count": 57,
   "id": "c24811d8",
   "metadata": {},
   "outputs": [
    {
     "name": "stdout",
     "output_type": "stream",
     "text": [
      "True\n"
     ]
    }
   ],
   "source": [
    "# Create IF statement with OR logic - return print true with the variables\n",
    "\n",
    "## Don't Change ##\n",
    "a = 24\n",
    "b = 36\n",
    "######################\n",
    "\n",
    "if a > 22 or a < 100:\n",
    "    print(True)\n",
    "else:\n",
    "    print(False)\n"
   ]
  },
  {
   "cell_type": "code",
   "execution_count": 58,
   "id": "f7c90937",
   "metadata": {},
   "outputs": [
    {
     "name": "stdout",
     "output_type": "stream",
     "text": [
      "True\n"
     ]
    }
   ],
   "source": [
    "# Create IF statement with AND and OR logic - return print true with the variables\n",
    "\n",
    "## Don't Change ##\n",
    "a = 24\n",
    "b = 36\n",
    "######################\n",
    "\n",
    "if a > 22 and b > 22 or b < 100:\n",
    "    print(True)\n",
    "else:\n",
    "    print(False)\n"
   ]
  },
  {
   "cell_type": "code",
   "execution_count": 59,
   "id": "9e2d8659",
   "metadata": {},
   "outputs": [
    {
     "name": "stdout",
     "output_type": "stream",
     "text": [
      "b greater than 1\n"
     ]
    }
   ],
   "source": [
    "# Create IF statement with ELIF - return \"b greater than 1\"\n",
    "\n",
    "## Don't Change ##\n",
    "a = 24\n",
    "b = 36\n",
    "######################\n",
    "\n",
    "if a > b:\n",
    "    print(\"a greater than b\")\n",
    "elif b > 1:\n",
    "    print(\"b greater than 1\")\n",
    "else:\n",
    "    print(\"can't determine\")"
   ]
  },
  {
   "cell_type": "code",
   "execution_count": 60,
   "id": "e8f692d6",
   "metadata": {},
   "outputs": [],
   "source": [
    "# Create IF statement with pass - return print true with the variables\n",
    "\n",
    "## Don't Change ##\n",
    "a = 33\n",
    "b = 200\n",
    "######################\n",
    "\n",
    "if b > a:\n",
    "    pass"
   ]
  },
  {
   "cell_type": "code",
   "execution_count": 61,
   "id": "15617b94",
   "metadata": {},
   "outputs": [
    {
     "ename": "Exception",
     "evalue": "a is less than 0",
     "output_type": "error",
     "traceback": [
      "\u001b[1;31m---------------------------------------------------------------------------\u001b[0m",
      "\u001b[1;31mException\u001b[0m                                 Traceback (most recent call last)",
      "\u001b[1;32m<ipython-input-61-dc557b9a59c5>\u001b[0m in \u001b[0;36m<module>\u001b[1;34m\u001b[0m\n\u001b[0;32m      6\u001b[0m \u001b[1;33m\u001b[0m\u001b[0m\n\u001b[0;32m      7\u001b[0m \u001b[1;32mif\u001b[0m \u001b[0ma\u001b[0m \u001b[1;33m>\u001b[0m \u001b[1;36m0\u001b[0m\u001b[1;33m:\u001b[0m\u001b[1;33m\u001b[0m\u001b[1;33m\u001b[0m\u001b[0m\n\u001b[1;32m----> 8\u001b[1;33m     \u001b[1;32mraise\u001b[0m \u001b[0mException\u001b[0m\u001b[1;33m(\u001b[0m\u001b[1;34m\"a is less than 0\"\u001b[0m\u001b[1;33m)\u001b[0m\u001b[1;33m\u001b[0m\u001b[1;33m\u001b[0m\u001b[0m\n\u001b[0m\u001b[0;32m      9\u001b[0m \u001b[1;32melse\u001b[0m\u001b[1;33m:\u001b[0m\u001b[1;33m\u001b[0m\u001b[1;33m\u001b[0m\u001b[0m\n\u001b[0;32m     10\u001b[0m     \u001b[0mprint\u001b[0m\u001b[1;33m(\u001b[0m\u001b[1;34m\"a is greater than 0\"\u001b[0m\u001b[1;33m)\u001b[0m\u001b[1;33m\u001b[0m\u001b[1;33m\u001b[0m\u001b[0m\n",
      "\u001b[1;31mException\u001b[0m: a is less than 0"
     ]
    }
   ],
   "source": [
    "# Use raise an exception in an example IF statement\n",
    "\n",
    "## Don't Change ##\n",
    "a = 2\n",
    "######################\n",
    "\n",
    "if a > 0:\n",
    "    raise Exception(\"a is less than 0\")\n",
    "else:\n",
    "    print(\"a is greater than 0\")"
   ]
  },
  {
   "cell_type": "code",
   "execution_count": 62,
   "id": "7168df97",
   "metadata": {},
   "outputs": [
    {
     "name": "stdout",
     "output_type": "stream",
     "text": [
      "hello world\n"
     ]
    }
   ],
   "source": [
    "# Create a one line IF statment - return print \"hello world\"\n",
    "\n",
    "## Don't Change ##\n",
    "a = 0\n",
    "b = 2\n",
    "######################\n",
    "\n",
    "if b > a: print(\"hello world\") "
   ]
  },
  {
   "cell_type": "code",
   "execution_count": 63,
   "id": "2b0e97af",
   "metadata": {},
   "outputs": [
    {
     "name": "stdout",
     "output_type": "stream",
     "text": [
      "hello world\n"
     ]
    }
   ],
   "source": [
    "# Create a one line IF statment with ELSE - return print \"hello world\"\n",
    "\n",
    "## Don't Change ##\n",
    "a = 0\n",
    "b = 2\n",
    "######################\n",
    "\n",
    "print('hello world') if b > a else None"
   ]
  },
  {
   "cell_type": "code",
   "execution_count": 64,
   "id": "b7b9ba05",
   "metadata": {},
   "outputs": [
    {
     "name": "stdout",
     "output_type": "stream",
     "text": [
      "B\n"
     ]
    }
   ],
   "source": [
    "# Create multiple if / else conditions on one line - return B\n",
    "\n",
    "## Don't Change ##\n",
    "a = 330\n",
    "b = 331\n",
    "######################\n",
    "\n",
    "\n",
    "print(\"A\") if a > b else print(\"=\") if a == b else print(\"B\")"
   ]
  },
  {
   "cell_type": "markdown",
   "id": "5da490b2",
   "metadata": {},
   "source": [
    "While Loops"
   ]
  },
  {
   "cell_type": "code",
   "execution_count": 65,
   "id": "ebfbe820",
   "metadata": {},
   "outputs": [
    {
     "name": "stdout",
     "output_type": "stream",
     "text": [
      "hello\n",
      "hello\n",
      "hello\n",
      "hello\n",
      "hello\n",
      "hello\n",
      "hello\n",
      "hello\n",
      "hello\n",
      "hello\n"
     ]
    }
   ],
   "source": [
    "# Create a count-controlled WHILE loop - print \"hello\" 10x\n",
    "\n",
    "## Don't Change ##\n",
    "a = 0\n",
    "######################\n",
    "\n",
    "while a < 10:\n",
    "    a += 1\n",
    "    print(\"hello\")"
   ]
  },
  {
   "cell_type": "code",
   "execution_count": 66,
   "id": "41430807",
   "metadata": {},
   "outputs": [
    {
     "name": "stdout",
     "output_type": "stream",
     "text": [
      "0\n",
      "1\n",
      "2\n",
      "3\n",
      "4\n",
      "5\n",
      "6\n",
      "7\n",
      "8\n",
      "9\n"
     ]
    }
   ],
   "source": [
    "# Create an event-controlled WHILE loop - print 0 to 9\n",
    "\n",
    "## Don't Change ##\n",
    "a = True\n",
    "b = 0\n",
    "######################\n",
    "\n",
    "while a == True:\n",
    "    if b == 10:\n",
    "        a = False\n",
    "    else:\n",
    "        print(b)\n",
    "        b += 1\n"
   ]
  },
  {
   "cell_type": "markdown",
   "id": "7aed178b",
   "metadata": {},
   "source": [
    "For Loops"
   ]
  },
  {
   "cell_type": "code",
   "execution_count": 67,
   "id": "e10e2433",
   "metadata": {},
   "outputs": [
    {
     "name": "stdout",
     "output_type": "stream",
     "text": [
      "a\n",
      "c\n",
      "b\n",
      "d\n",
      "e\n"
     ]
    }
   ],
   "source": [
    "# For Loop with lists - print out the list below\n",
    "\n",
    "## Don't Change ##\n",
    "a = ['a', 'c', 'b', 'd', 'e']\n",
    "######################\n",
    "\n",
    "for x in a:\n",
    "    print(x)"
   ]
  },
  {
   "cell_type": "code",
   "execution_count": 68,
   "id": "d1c3e150",
   "metadata": {},
   "outputs": [
    {
     "name": "stdout",
     "output_type": "stream",
     "text": [
      "a\n",
      "e\n",
      "c\n",
      "d\n",
      "b\n"
     ]
    }
   ],
   "source": [
    "# For loop with Sets - print out the set below\n",
    "\n",
    "## Don't Change ##\n",
    "a = {'a', 'c', 'b', 'd', 'e'}\n",
    "######################\n",
    "\n",
    "for x in a:\n",
    "    print(x)"
   ]
  },
  {
   "cell_type": "code",
   "execution_count": 69,
   "id": "77b64c97",
   "metadata": {},
   "outputs": [
    {
     "name": "stdout",
     "output_type": "stream",
     "text": [
      "a\n",
      "c\n",
      "b\n",
      "d\n",
      "e\n"
     ]
    }
   ],
   "source": [
    "# For Loop with Tuples - print out the Tuple below\n",
    "\n",
    "## Don't Change ##\n",
    "a = ('a', 'c', 'b', 'd', 'e')\n",
    "######################\n",
    "\n",
    "for x in a:\n",
    "    print(x)"
   ]
  },
  {
   "cell_type": "code",
   "execution_count": 70,
   "id": "cd13c868",
   "metadata": {},
   "outputs": [
    {
     "name": "stdout",
     "output_type": "stream",
     "text": [
      "(0, 'a')\n",
      "(1, 'c')\n",
      "(2, 'b')\n",
      "(3, 'd')\n",
      "(4, 'e')\n"
     ]
    }
   ],
   "source": [
    "# For loop with enumerate - print the index and elements of the tuple\n",
    "\n",
    "## Don't Change ##\n",
    "a = ('a', 'c', 'b', 'd', 'e')\n",
    "######################\n",
    "\n",
    "for x in enumerate(a):\n",
    "    print(x)"
   ]
  },
  {
   "cell_type": "code",
   "execution_count": 71,
   "id": "8fb5f4bb",
   "metadata": {},
   "outputs": [
    {
     "name": "stdout",
     "output_type": "stream",
     "text": [
      "bob\n",
      "23\n",
      "Ted\n",
      "25\n"
     ]
    }
   ],
   "source": [
    "# For Loop with Dictionaries by values \n",
    "\n",
    "## Don't Change ##\n",
    "a = dict(name=\"bob\", age=23, friend=\"Ted\", friend_age=25)\n",
    "######################\n",
    "\n",
    "for x in a.values():\n",
    "    print(x)"
   ]
  },
  {
   "cell_type": "code",
   "execution_count": 72,
   "id": "5c5d23ca",
   "metadata": {},
   "outputs": [
    {
     "name": "stdout",
     "output_type": "stream",
     "text": [
      "name\n",
      "age\n",
      "friend\n",
      "friend_age\n"
     ]
    }
   ],
   "source": [
    "# For Loop with Dictionaries by keys\n",
    "\n",
    "## Don't Change ##\n",
    "a = dict(name=\"bob\", age=23, friend=\"Ted\", friend_age=25)\n",
    "######################\n",
    "\n",
    "for x in a.keys():\n",
    "    print(x)"
   ]
  },
  {
   "cell_type": "code",
   "execution_count": 73,
   "id": "1ebe4472",
   "metadata": {},
   "outputs": [
    {
     "name": "stdout",
     "output_type": "stream",
     "text": [
      "('name', 'bob')\n",
      "('age', 23)\n",
      "('friend', 'Ted')\n",
      "('friend_age', 25)\n"
     ]
    }
   ],
   "source": [
    "# For Loop with Dictionaries by keys:value pairs using items()\n",
    "\n",
    "## Don't Change ##\n",
    "a = dict(name=\"bob\", age=23, friend=\"Ted\", friend_age=25)\n",
    "######################\n",
    "\n",
    "for x in a.items():\n",
    "    print(x)"
   ]
  },
  {
   "cell_type": "code",
   "execution_count": 74,
   "id": "1f8be3d5",
   "metadata": {},
   "outputs": [
    {
     "name": "stdout",
     "output_type": "stream",
     "text": [
      "s\n",
      "t\n",
      "r\n",
      "n\n",
      "g\n",
      "The end\n"
     ]
    }
   ],
   "source": [
    "# For Loop with Continue - skip when value == \"i\"\n",
    "\n",
    "### Don't Change ###\n",
    "x = \"string\"\n",
    "####################\n",
    "\n",
    "\n",
    "for val in x:\n",
    "    if val == \"i\":\n",
    "        continue\n",
    "    print(val)\n"
   ]
  },
  {
   "cell_type": "code",
   "execution_count": 98,
   "id": "2cf0ce65",
   "metadata": {},
   "outputs": [
    {
     "name": "stdout",
     "output_type": "stream",
     "text": [
      "s\n",
      "t\n",
      "r\n"
     ]
    }
   ],
   "source": [
    "# For Loop with Break - finish loop when value == \"i\"\n",
    "\n",
    "### Don't Change ###\n",
    "x = \"string\"\n",
    "####################\n",
    "\n",
    "for val in x:\n",
    "    if val == \"i\":\n",
    "        break\n",
    "    else:\n",
    "        print(val)\n"
   ]
  },
  {
   "cell_type": "markdown",
   "id": "c91832ec",
   "metadata": {},
   "source": [
    "Exception Handling"
   ]
  },
  {
   "cell_type": "code",
   "execution_count": 76,
   "id": "e420e557",
   "metadata": {},
   "outputs": [
    {
     "name": "stdout",
     "output_type": "stream",
     "text": [
      "string\n",
      "The 'try except' is finished\n"
     ]
    }
   ],
   "source": [
    "# Try and Except and finally example\n",
    "\n",
    "try:\n",
    "    print(x)\n",
    "except:\n",
    "    print(\"Something went wrong\")\n",
    "finally:\n",
    "    print(\"The 'try except' is finished\")\n"
   ]
  },
  {
   "cell_type": "markdown",
   "id": "0ee5697b",
   "metadata": {},
   "source": [
    "List Comprehensions"
   ]
  },
  {
   "cell_type": "code",
   "execution_count": 87,
   "id": "36db0443",
   "metadata": {},
   "outputs": [
    {
     "name": "stdout",
     "output_type": "stream",
     "text": [
      "True\n"
     ]
    }
   ],
   "source": [
    "# Basic List comprehension - reprint the list with list comprehension\n",
    "\n",
    "#### Don't Change ####\n",
    "a = [\"pd\", \"np\", \"plt\", \"sns\"]\n",
    "######################\n",
    "\n",
    "q = [x for x in a]\n",
    "\n",
    "\n",
    "#### Test - return True ########\n",
    "print(True) if q == a else print(False)"
   ]
  },
  {
   "cell_type": "code",
   "execution_count": 88,
   "id": "06aec1a1",
   "metadata": {},
   "outputs": [
    {
     "name": "stdout",
     "output_type": "stream",
     "text": [
      "True\n"
     ]
    }
   ],
   "source": [
    "# List comprehension with IF statement - print the list if item starts with \"p\"\n",
    "\n",
    "#### Don't Change ####\n",
    "a = [\"pd\", \"np\", \"plt\", \"sns\"]\n",
    "######################\n",
    "\n",
    "q = [x for x in a if x.startswith('p')]\n",
    "\n",
    "#### Test - return True ########\n",
    "print(True) if q == ['pd', 'plt'] else print(False)"
   ]
  },
  {
   "cell_type": "code",
   "execution_count": 89,
   "id": "a3c9c600",
   "metadata": {},
   "outputs": [
    {
     "name": "stdout",
     "output_type": "stream",
     "text": [
      "True\n"
     ]
    }
   ],
   "source": [
    "# List comprehension changing all strings to upper case\n",
    "\n",
    "#### Don't Change ####\n",
    "a = [\"pd\", \"np\", \"plt\", \"sns\"]\n",
    "######################\n",
    "\n",
    "q = [x.upper() for x in a]\n",
    "\n",
    "\n",
    "#### Test - return True ########\n",
    "print(True) if str(q) == \"['PD', 'NP', 'PLT', 'SNS']\" else print(False)"
   ]
  },
  {
   "cell_type": "code",
   "execution_count": 90,
   "id": "ae3c8dd0",
   "metadata": {},
   "outputs": [
    {
     "name": "stdout",
     "output_type": "stream",
     "text": [
      "True\n"
     ]
    }
   ],
   "source": [
    "# List comprehension changing all values in the list to \"Python\"\n",
    "\n",
    "#### Don't Change ####\n",
    "a = [\"pd\", \"np\", \"plt\", \"sns\"]\n",
    "######################\n",
    "\n",
    "q = [\"Python\" for x in a]\n",
    "\n",
    "\n",
    "#### Test - return True ########\n",
    "print(True) if str(q) == \"['Python', 'Python', 'Python', 'Python']\" else print(False)"
   ]
  },
  {
   "cell_type": "code",
   "execution_count": 92,
   "id": "96b72ae1",
   "metadata": {},
   "outputs": [
    {
     "name": "stdout",
     "output_type": "stream",
     "text": [
      "True\n"
     ]
    }
   ],
   "source": [
    "# List comprehension with 'else' - only print \"pd\", call everything else ...\"everything else\"\n",
    "\n",
    "#### Don't Change ####\n",
    "a = [\"pd\", \"np\", \"plt\", \"sns\", \"dummy\"]\n",
    "######################\n",
    "\n",
    "q = [x if x == \"pd\" else \"everything else\" for x in a]\n",
    "\n",
    "\n",
    "#### Test - return True ########\n",
    "print(True) if q == list(('pd','everything else','everything else','everything else','everything else')) else print(False)"
   ]
  },
  {
   "cell_type": "markdown",
   "id": "e6e11737",
   "metadata": {},
   "source": [
    "Dictionary Comprehension"
   ]
  },
  {
   "cell_type": "code",
   "execution_count": 93,
   "id": "92b27ac8",
   "metadata": {},
   "outputs": [
    {
     "name": "stdout",
     "output_type": "stream",
     "text": [
      "True\n"
     ]
    }
   ],
   "source": [
    "# Dictionary comprehension - reprint out the dictionary below\n",
    "\n",
    "#### Don't Change ####\n",
    "d = {\"a\": 1, \"b\": 2, \"c\": 3}\n",
    "######################\n",
    "\n",
    "q = dict((key, value) for key, value in d.items())\n",
    "\n",
    "\n",
    "#### Test - return True ########\n",
    "print(True) if q == d else print(False)"
   ]
  },
  {
   "cell_type": "code",
   "execution_count": 97,
   "id": "482e1e64",
   "metadata": {},
   "outputs": [
    {
     "name": "stdout",
     "output_type": "stream",
     "text": [
      "True\n"
     ]
    }
   ],
   "source": [
    "# Dictionary comprehension - reprint out the dictionary below IF value == 1\n",
    "\n",
    "#### Don't Change ####\n",
    "d = {\"a\": 1, \"b\": 2, \"c\": 3}\n",
    "######################\n",
    "\n",
    "q = dict((key, value) for key, value in d.items() if value <= 1)\n",
    "\n",
    "\n",
    "#### Test - return True ########\n",
    "print(True) if str(q) == \"{'a': 1}\" else print(False)"
   ]
  },
  {
   "cell_type": "markdown",
   "id": "11ed9169",
   "metadata": {},
   "source": [
    "Functions"
   ]
  },
  {
   "cell_type": "code",
   "execution_count": 84,
   "id": "b6116919",
   "metadata": {},
   "outputs": [
    {
     "name": "stdout",
     "output_type": "stream",
     "text": [
      "('a', 'b', 'c')\n"
     ]
    }
   ],
   "source": [
    "# Create a function where the number of arguments are unknown\n",
    "\n",
    "def unknown_args(*args):\n",
    "    print(args)\n",
    "    \n",
    "unknown_args(\"a\", \"b\", \"c\")"
   ]
  },
  {
   "cell_type": "code",
   "execution_count": 85,
   "id": "55f3cda5",
   "metadata": {},
   "outputs": [
    {
     "name": "stdout",
     "output_type": "stream",
     "text": [
      "{'name': 'bob', 'age': 13}\n"
     ]
    }
   ],
   "source": [
    "# Create a function where the number of keyword arguments are unknown\n",
    "\n",
    "def unknown_kwargs(**kwargs):\n",
    "    print(kwargs)\n",
    "    \n",
    "unknown_kwargs(name = \"bob\", age = 13)"
   ]
  },
  {
   "cell_type": "code",
   "execution_count": 86,
   "id": "a00ddc83",
   "metadata": {},
   "outputs": [
    {
     "data": {
      "text/plain": [
       "15"
      ]
     },
     "execution_count": 86,
     "metadata": {},
     "output_type": "execute_result"
    }
   ],
   "source": [
    "# Create a lambda function (anonymous function) where you add 10 to the input\n",
    "\n",
    "x = lambda a: a + 10\n",
    "\n",
    "x(5)"
   ]
  },
  {
   "cell_type": "code",
   "execution_count": null,
   "id": "e8e65d44",
   "metadata": {},
   "outputs": [],
   "source": []
  }
 ],
 "metadata": {
  "kernelspec": {
   "display_name": "Python 3",
   "language": "python",
   "name": "python3"
  },
  "language_info": {
   "codemirror_mode": {
    "name": "ipython",
    "version": 3
   },
   "file_extension": ".py",
   "mimetype": "text/x-python",
   "name": "python",
   "nbconvert_exporter": "python",
   "pygments_lexer": "ipython3",
   "version": "3.8.8"
  }
 },
 "nbformat": 4,
 "nbformat_minor": 5
}
